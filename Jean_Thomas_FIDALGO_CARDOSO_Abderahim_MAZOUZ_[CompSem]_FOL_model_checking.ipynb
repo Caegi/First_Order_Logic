{
  "nbformat": 4,
  "nbformat_minor": 0,
  "metadata": {
    "colab": {
      "private_outputs": true,
      "provenance": []
    },
    "kernelspec": {
      "name": "python3",
      "display_name": "Python 3"
    }
  },
  "cells": [
    {
      "cell_type": "code",
      "metadata": {
        "id": "UnGxKvPhF-6w"
      },
      "source": [
        "# Checks that `o` is an instance of `t` (ex: integer, list).\n",
        "# Produces a clear error message otherwise.\n",
        "# This function is not essential but can help a lot for debugging.\n",
        "def check_type(o, t, name=None):\n",
        "    if(name is None): name = \"[no name]\"\n",
        "    assert isinstance(o, t), (f\"Type problem: variable {name} (type: {type(o)}; value: {o}) is not an instance of {t}\")"
      ],
      "execution_count": null,
      "outputs": []
    },
    {
      "cell_type": "code",
      "metadata": {
        "id": "w-DmwcdqISro"
      },
      "source": [
        "# Example 1:\n",
        "check_type([1,2,3], list) # Works fine because [1,2,3] is indeed a list."
      ],
      "execution_count": null,
      "outputs": []
    },
    {
      "cell_type": "code",
      "metadata": {
        "id": "J5sJSwtmIWQx"
      },
      "source": [
        "# Example 2:\n",
        "# check_type(1, list) # An AssertionError exception is raised because 1 is not a list."
      ],
      "execution_count": null,
      "outputs": []
    },
    {
      "cell_type": "code",
      "metadata": {
        "id": "G1zhHQ2DIXsQ"
      },
      "source": [
        "# Constant\n",
        "class C:\n",
        "    # name: string\n",
        "    def __init__(self, name):\n",
        "        check_type(name, str, \"name\")\n",
        "\n",
        "        self._name = name\n",
        "\n",
        "    # Defines the behaviour of \"==\".\n",
        "    # In this case: two C·s are considered equal if they have the same `_name`.\n",
        "    def __eq__(self, other):\n",
        "        return isinstance(other, C) and self._name == other._name\n",
        "\n",
        "    # Required to be able to use the class in sets or dictionaries.\n",
        "    def __hash__(self):\n",
        "        return hash(self._name)\n",
        "\n",
        "    # Returns a string representation of the object. Used to print the object in a readable way.\n",
        "    def __str__(self):\n",
        "        return self._name\n",
        "\n",
        "    # Returns a string representation of the object. Also used to print the object in a readable way.\n",
        "    def __repr__(self):\n",
        "        return str(self)"
      ],
      "execution_count": null,
      "outputs": []
    },
    {
      "cell_type": "code",
      "metadata": {
        "id": "K_ODKxEhIve7"
      },
      "source": [
        "# Variable\n",
        "class V:\n",
        "    # name: string\n",
        "    def __init__(self, name):\n",
        "        check_type(name, str, \"name\")\n",
        "\n",
        "        self._name = name\n",
        "\n",
        "    # Defines the behaviour of \"==\".\n",
        "    # In this case: two V·s are considered equal if they have the same `_name`.\n",
        "    def __eq__(self, other):\n",
        "        return isinstance(other, V) and self._name == other._name\n",
        "\n",
        "    # Required to be able to use the class in sets or dictionaries.\n",
        "    def __hash__(self):\n",
        "        return hash(self._name)\n",
        "\n",
        "    # Returns a string representation of the object. Used to print the object in a readable way.\n",
        "    def __str__(self):\n",
        "        return self._name\n",
        "\n",
        "    # Returns a string representation of the object. Also used to print the object in a readable way.\n",
        "    def __repr__(self):\n",
        "        return str(self)"
      ],
      "execution_count": null,
      "outputs": []
    },
    {
      "cell_type": "code",
      "metadata": {
        "id": "WqOjdtJEIxGC"
      },
      "source": [
        "# Predicate\n",
        "class P:\n",
        "\t# name: string\n",
        "\tdef __init__(self, name, arity):\n",
        "\t\tcheck_type(name, str, \"name\")\n",
        "\t\tcheck_type(arity, int, \"arity\")\n",
        "\n",
        "\t\tself._name = name\n",
        "\t\tself.arity = arity\n",
        "\n",
        "\t# Defines the behaviour of \"==\".\n",
        "\t# In this case: two P·s are considered equal if they have the same `_name` and the same `arity`.\n",
        "\tdef __eq__(self, other):\n",
        "\t\treturn isinstance(other, P) and (self._name == other._name) and (self.arity == other.arity)\n",
        "\n",
        "\t# Required to be able to use the class in sets or dictionaries.\n",
        "\tdef __hash__(self):\n",
        "\t\treturn hash((self._name, self.arity))\n",
        "\n",
        "\t# Returns a string representation of the object. Used to print the object in a readable way.\n",
        "\tdef __str__(self):\n",
        "\t\treturn self._name\n",
        "\n",
        "\t# Returns a string representation of the object. Also used to print the object in a readable way.\n",
        "\tdef __repr__(self):\n",
        "\t\treturn str(self)"
      ],
      "execution_count": null,
      "outputs": []
    },
    {
      "cell_type": "markdown",
      "metadata": {
        "id": "3tz_-c3KI1Cb"
      },
      "source": [
        "# Instructions\n",
        "*  Instantiate and then print a constant \"Sabine\", a variable \"x\" and a binary predicate \"eat\".\n",
        "*  Use `isinstance` to check that these objects instantiate the class you think they instantiate."
      ]
    },
    {
      "cell_type": "code",
      "metadata": {
        "id": "j4hA3SzhIyaJ"
      },
      "source": [
        "Sabine = C(\"Sabine\")\n",
        "x = V(\"x\")\n",
        "eat = P(\"eat\", 2)\n",
        "print(f\"Sabine is instance of C ? {isinstance(Sabine, C)}\")\n",
        "print(f\"x is instance of V ? {isinstance(x, V)}\")\n",
        "print(f\"eat is instance of P ? {isinstance(eat, P)}\")"
      ],
      "execution_count": null,
      "outputs": []
    },
    {
      "cell_type": "markdown",
      "metadata": {
        "id": "72Uqgg6XJWU2"
      },
      "source": [
        "A model of First Order Logic consists of a domain and an interpretation function.\n",
        "*  The domain is simply a set the element of which are called \"individuals\". Here, individuals will be integers.\n",
        "*  The interpretation function sends any constant to an individual and any predicate to a tuple of individuals (see slides)."
      ]
    },
    {
      "cell_type": "code",
      "metadata": {
        "id": "Y82NuUCCJbTy"
      },
      "source": [
        "class InterpretationFunc:\n",
        "\t# c_dic: dictionary; keys are C·s, values are integers\n",
        "\t# p_dic: dictionary; keys are P·s, values are sets of tuples of integers\n",
        "\tdef __init__(self, c_dic, p_dic):\n",
        "\t\tself._c_dic = c_dic\n",
        "\t\tself._p_dic = p_dic\n",
        "\n",
        "\t# Remark: __getitem__ can be called using the []-notation: \"i[x]\" is translated as \"i.__getitem__(x)\". Use the []-notation instead of calling __getitem__ explicitly.\n",
        "\t# Returns the interpretation of `x`.\n",
        "\t# x: either a C or a P\n",
        "\tdef __getitem__(self, x):\n",
        "\t\tif(isinstance(x, C)): return self._c_dic[x] # Raises an exception if the constant has no entry in `_c_dic`.\n",
        "\t\tif(isinstance(x, P)): return self._p_dic.get(x, set()) # Returns an empty set if the predicate has no entry in `_p_dic`.\n",
        "\t\traise TypeError\n",
        "\n",
        "\t# Returns the list obtained from `l` by replacing all constants by their interpretation (other elements should appear unaffected).\n",
        "\t# The original list `l` should not be affected.\n",
        "\t# (Be aware that this function returns a list and not a tuple. If you need a tuple, use the `tuple` function to convert the list into one.)\n",
        "\t# l: list of C·s and V·s\n",
        "\tdef map(self, l):\n",
        "\t\tcheck_type(l, list, \"l\")\n",
        "\t\t# new_l: list of C·s and V·s\n",
        "\t\tnew_l = l.copy()\n",
        "\t\tfor i in range(len(l)): # iterate over C·s and V·s or individuals in the domain in l\n",
        "\t\t\tif isinstance(l[i], C): # if the current element in the loop in a constant\n",
        "\t\t\t\tnew_l[i] = self[l[i]] # assign to the i-th element in new_l the interpretation of the i-th element of l\n",
        "\t\treturn new_l\n",
        "\n",
        "\t# Returns a string representation of the object. Used to print the object in a readable way.\n",
        "\tdef __str__(self):\n",
        "\t\ttmp = list(self._c_dic.items())\n",
        "\t\ttmp.extend(self._p_dic.items())\n",
        "\t\ts = ', '.join([f\"{k}: {v}\" for (k, v) in tmp])\n",
        "\t\treturn '{' + s + '}'\n",
        "\n",
        "\t# Returns a string representation of the object. Also used to print the object in a readable way.\n",
        "\tdef __repr__(self):\n",
        "\t\treturn str(self)"
      ],
      "execution_count": null,
      "outputs": []
    },
    {
      "cell_type": "markdown",
      "metadata": {
        "id": "U6mtVYM5JjFe"
      },
      "source": [
        "# Instructions\n",
        "*  Complete `InterpretationFunc.map` above.\n",
        "*  Instantiate an interpretation function `i_func` that interprets the constant \"Sabine\" as the integer 1, and predicates \"tall\" \"eat\" and \"like\" as non-empty sets. Warning: the one-tuple composed of element `x` is written as `(x,)` in Python (instead of `(x)`, which is just another way to write `x`).\n",
        "*  Print `i_func`."
      ]
    },
    {
      "cell_type": "code",
      "metadata": {
        "id": "T7w0KRlFJhbJ"
      },
      "source": [
        "i_func = InterpretationFunc({C(\"Sabine\"): 1}, {P(\"tall\", 1): {(0,)}, P(\"eat\", 2): {(0,)}, P(\"like\", 2): {(0,)}})\n",
        "print(f\"i_func is: {i_func}\")\n",
        "\n",
        "# test InterpretationFunc.map\n",
        "l = [C(\"Sabine\"), V(\"x\")]\n",
        "print(f\"\\noriginal list before mapping: {l}\")\n",
        "print(f\"list returned from i_func.map(): {i_func.map(l)}\")\n",
        "print(f\"original list after mapping: {l}\")"
      ],
      "execution_count": null,
      "outputs": []
    },
    {
      "cell_type": "code",
      "metadata": {
        "id": "NiusaZuSKpU4"
      },
      "source": [
        "class Model:\n",
        "\t# domain: set of integers\n",
        "\t# i_func: InterpretationFunc\n",
        "\tdef __init__(self, domain, i_func):\n",
        "\t\tcheck_type(domain, set, \"domain\")\n",
        "\t\tcheck_type(i_func, InterpretationFunc, \"i_func\")\n",
        "\n",
        "\t\tself.domain = domain\n",
        "\t\tself.i_func = i_func\n",
        "\n",
        "\t# Returns a string representation of the object. Used to print the object in a readable way.\n",
        "\tdef __str__(self):\n",
        "\t\treturn f'{{D={self.domain}; I={self.i_func}}}'\n",
        "\n",
        "\t# Returns a string representation of the object. Also used to print the object in a readable way.\n",
        "\tdef __repr__(self):\n",
        "\t\treturn str(self)"
      ],
      "execution_count": null,
      "outputs": []
    },
    {
      "cell_type": "markdown",
      "metadata": {
        "id": "bvLbRNJfKl2E"
      },
      "source": [
        "# Instructions\n",
        "*  Instantiate a model `model` from a finite domain and the `i_func` interpretation function defined previously.\n",
        "*  Print `model`."
      ]
    },
    {
      "cell_type": "code",
      "metadata": {
        "id": "IbVxbQgJKmVw"
      },
      "source": [
        "model = Model({1,2}, i_func)\n",
        "print(model)"
      ],
      "execution_count": null,
      "outputs": []
    },
    {
      "cell_type": "markdown",
      "metadata": {
        "id": "WiY39TDD0962"
      },
      "source": [
        "# Instructions\n",
        "*  Complete `VarAssignment.assign`.\n",
        "*  Complete `VarAssignment.map`."
      ]
    },
    {
      "cell_type": "code",
      "metadata": {
        "id": "_lv7TcRXLY6Y"
      },
      "source": [
        "# For variable assignments.\n",
        "class VarAssignment:\n",
        "\t# dic: dictionary; keys are Vs, values are integers\n",
        "\t# If `dic` is not specified, the empty dictionary ({}) is used.\n",
        "\tdef __init__(self, dic={}):\n",
        "\t\tcheck_type(dic, dict, \"dic\")\n",
        "\n",
        "\t\tself._dic = dic\n",
        "\n",
        "\t# Returns the variable assignment that only differs from the present one (i.e. `self`) with \"x := d\". ?\n",
        "\t# The present assignment is not modified and a new assignment is instantiated.\n",
        "\t# x: V\n",
        "\t# d: integer\n",
        "\tdef assign(self, x, d):\n",
        "\t\tcheck_type(x, V, \"x\")\n",
        "\t\tcheck_type(d, int, \"d\")\n",
        "\t\tif (self._dic[x] == d): # if the interpretation of x is the same as d\n",
        "\t \t\treturn self\n",
        "\t\telse:\n",
        "\t\t\tnew_dic = self._dic.copy()\n",
        "\t\t\tnew_dic[x] = d\n",
        "\t\t\treturn VarAssignment(new_dic)\n",
        "\n",
        "\t# Returns the list obtained from `l` by replacing all variables by their assignments (other elements should appear unaffected).\n",
        "\t# The original list `l` should not be affected.\n",
        "\t# (Be aware that this function returns a list and not a tuple. If you need a tuple, use the `tuple` function to convert the list into one.)\n",
        "\t# l: list\n",
        "\tdef map(self, l):\n",
        "\t\tcheck_type(l, list, \"l\")\n",
        "\t\tnew_l = l.copy()\n",
        "\t\tfor i in range(len(l)): # iterate over C·s and V·s or individuals in the domain in l\n",
        "\t\t\tif isinstance(l[i], V): # if the current element in the loop in a constant\n",
        "\t\t\t\tnew_l[i] = self._dic[l[i]] # assign to the i-th element in new_l the assignment of the i-th element of l\n",
        "\t\treturn new_l\n",
        "\n",
        "\t# Returns a string representation of the object. Used to print the object in a nice way.\n",
        "\tdef __str__(self):\n",
        "\t\treturn f'{self._dic}'"
      ],
      "execution_count": null,
      "outputs": []
    },
    {
      "cell_type": "code",
      "source": [
        "var_assign = VarAssignment({V(\"x\"): 0})\n",
        "\n",
        "# testing VarAssignment.assign\n",
        "print(f\"Original VarAssignment object called var_assign: {var_assign}\")\n",
        "print(f\" -> \")\n",
        "var_assign.assign(V('x'), 0)\n",
        "new_var_assign = var_assign.assign(V(\"x\"), 1)\n",
        "print(f\"New var assign object after doing var_assign.assign: {new_var_assign}\")\n",
        "print(f\"Original VarAssignment object after doing var_assign.asign: {var_assign}\")\n",
        "\n",
        "# testing VarAssignment.map\n",
        "print(f\"\\noriginal list before mapping: {l}\")\n",
        "print(f\"list returned from var_assign.map(): {var_assign.map(l)}\")\n",
        "print(f\"original list after mapping: {l}\")"
      ],
      "metadata": {
        "id": "VlGBlEyFARqs"
      },
      "execution_count": null,
      "outputs": []
    },
    {
      "cell_type": "markdown",
      "metadata": {
        "id": "onimMTmfL_m2"
      },
      "source": [
        "*  For this TP, a formula is represented by an instance of the class `Formula` (in fact, of some sub-class of `Formula`).\n",
        "*  There is one sub-class for each \"kind\" of formulas, that is to say for each clause in the inductive definition of the language of FOL."
      ]
    },
    {
      "cell_type": "code",
      "metadata": {
        "id": "ud96YJ-VLuQy"
      },
      "source": [
        "# The general class for logical formulas.\n",
        "# This class is sub-classed below.\n",
        "class Formula:\n",
        "\t# Checks whether the formula is true according to the model `m`.\n",
        "\t# The use of this method requires that the formula be closed.\n",
        "\t# This method does almost nothing by itself. All the work is done by the `check` method defined for each kind of formulas (sub-classes of `Formula`).\n",
        "\t# m: Model\n",
        "\tdef check_closed(self, m):\n",
        "\t\tcheck_type(m, Model, \"m\")\n",
        "\n",
        "\t\tf = VarAssignment() # Empty partial variable assignment.\n",
        "\t\treturn self.check(m, f)"
      ],
      "execution_count": null,
      "outputs": []
    },
    {
      "cell_type": "markdown",
      "metadata": {
        "id": "goAz4RWIMmmu"
      },
      "source": [
        "# Instructions\n",
        "*  `PredApp` is the sub-class corresponding to formulas composed of a single predicate with all of its arguments (1st clause in the definition of the language of FOL).\n",
        "*  Complete `PredApp.check`. (The slide about the valuation of FOL formulas contains all the information you need.)\n",
        "*  Then, instantiate three formulas (closed or not), using `PredApp` and print  their interpretation according in `model` for some variable assignment (that you have to instantiate)."
      ]
    },
    {
      "cell_type": "code",
      "metadata": {
        "id": "IamyUsHWL19b"
      },
      "source": [
        "# Predicate application\n",
        "class PredApp(Formula):\n",
        "\t# pred: P\n",
        "\t# args: list of V·s and C·s\n",
        "\tdef __init__(self, pred, args):\n",
        "\t\tcheck_type(pred, P, \"pred\")\n",
        "\t\tassert (pred.arity == len(args)), f\"{pred.arity} argument·s expected but {len(args)} given.\"\n",
        "\t\tcheck_type(args, list, \"args\")\n",
        "\n",
        "\t\tself._pred = pred\n",
        "\t\tself._args = args\n",
        "\n",
        "\t# Checks whether the formula is true according to the model `m` and the variable assignment `f`.\n",
        "\t# m: Model\n",
        "\t# f: VarAssignment\n",
        "\tdef check(self, m, f):\n",
        "\t\tcheck_type(m, Model, \"m\")\n",
        "\t\tcheck_type(f, VarAssignment, \"f\")\n",
        "\t\t# after mapping the constants and the variables in the arguments of the formula compare that mapping (tuple) to the interpretation of the predicate (set of tuples)\n",
        "\t\treturn tuple(f.map(m.i_func.map(self._args))) in m.i_func[self._pred]\n",
        "\n",
        "\t# Returns a string representation of the object. Used to print the object in a readable way.\n",
        "\tdef __str__(self):\n",
        "\t\treturn f\"{self._pred}({','.join([str(x) for x in self._args])})\""
      ],
      "execution_count": null,
      "outputs": []
    },
    {
      "cell_type": "code",
      "source": [
        "# Defining predicates, constants, variables, and VarAssignment.s\n",
        "Sabine = C(\"Sabine\")\n",
        "Jordan = C(\"Jordan\")\n",
        "Gertrude = C(\"Gertrude\")\n",
        "hose = C(\"hose\")\n",
        "tall = P(\"tall\", 1)\n",
        "like = P(\"like\", 2)\n",
        "human = P(\"human\", 1)\n",
        "wooden = P(\"wooden\", 1)\n",
        "y = V('y')\n",
        "x = V(\"x\")\n",
        "f = VarAssignment() # empty variable assignment\n",
        "\n",
        "new_inter_func = InterpretationFunc({Sabine: 1, Jordan: 0, Gertrude: 2, hose: 3},\n",
        " {tall: {(1,)}, like: {(0,2), (0,0)}, human: {(0,), (1,), (2,)}, wooden: {tuple()}})\n",
        "model = Model({0,1,2,3}, new_inter_func)\n",
        "print(f\"The model is:\\n {model} \\n\")\n",
        "\n",
        "# Unary Predicates ...\n",
        "# ... with a constant\n",
        "pred_sabine_tall = PredApp(tall, [Sabine])\n",
        "print(f\"{pred_sabine_tall}: {pred_sabine_tall.check(model, f)} \\n\")\n",
        "\n",
        "# ... with a variable\n",
        "pred_y_tall = PredApp(tall, [y])\n",
        "print(f\"{pred_y_tall}: {pred_y_tall.check(model, VarAssignment({y: 0}))} (with f(y) = 0) \\n\")\n",
        "\n",
        "# ... that apply to multiple individuals in the domain\n",
        "pred_gertrude_human = PredApp(human, [Gertrude])\n",
        "print(f\"{pred_gertrude_human}: {pred_gertrude_human.check(model, f)} \\n\")\n",
        "\n",
        "# Binary predicates ...\n",
        "# ... with constant\n",
        "pred_Jordan_like_Sabine = PredApp(like, [Jordan, Sabine])\n",
        "print(f\"{pred_Jordan_like_Sabine}: {pred_Jordan_like_Sabine.check(model, f)} \\n\")\n",
        "\n",
        "# ... with variable\n",
        "pred_Jordan_like_y = PredApp(like, [Jordan, y])\n",
        "print(f\"{pred_Jordan_like_y}: {pred_Jordan_like_y.check(model, VarAssignment({y: 2}))} (with f(y) = 2) \\n\")"
      ],
      "metadata": {
        "id": "ThzSbocJK28P"
      },
      "execution_count": null,
      "outputs": []
    },
    {
      "cell_type": "markdown",
      "metadata": {
        "id": "KEOO3_5YNj0M"
      },
      "source": [
        "# Instructions\n",
        "*  Write `Neg`, a sub-class of `Formula`, for negation.\n",
        "*  This class must possess, in addition to a constructor (`__init__`), a `check` method and a `__str__` one (see `PredApp`; you can use the ¬ symbol in `__str__`).\n",
        "*  (The slide about the syntax of FOL and the one about its semantics contain all the information you need.)\n",
        "*  Use `check_type` at the beginning of each method in order to check the type of each argument.\n",
        "*  Instantiate several formulas using `Neg`, display these formulas and there value in some model for some variable assignment."
      ]
    },
    {
      "cell_type": "code",
      "metadata": {
        "id": "vxHNe4F_ONx6"
      },
      "source": [
        "# Negation application\n",
        "class Neg(Formula):\n",
        "  # phi: Formula\n",
        "  def __init__(self, phi):\n",
        "    check_type(phi, Formula, \"phi\")\n",
        "    self._phi = phi\n",
        "\n",
        "\t# Checks whether the formula is true according to the model `m` and the variable assignment `f`.\n",
        "\t# m: Model\n",
        "\t# f: VarAssignment\n",
        "  def check(self, m, f):\n",
        "    check_type(m, Model, \"m\")\n",
        "    check_type(f, VarAssignment, \"f\")\n",
        "    return not(self._phi.check(m, f)) # return the opposite of the value of phi\n",
        "\n",
        "\t# Returns a string representation of the object. Used to print the object in a readable way.\n",
        "  def __str__(self):\n",
        "    return f\"¬({self._phi})\""
      ],
      "execution_count": null,
      "outputs": []
    },
    {
      "cell_type": "code",
      "source": [
        "print(f\"The model is:\\n {model} \\n\")\n",
        "\n",
        "# Unary Predicates ...\n",
        "# ... with a constant\n",
        "neg_pred_sabine_tall = Neg(pred_sabine_tall)\n",
        "print(f\"{neg_pred_sabine_tall}: {neg_pred_sabine_tall.check(model, f)} \\n\")\n",
        "\n",
        "# ... with a double negation\n",
        "double_neg_pred_sabine_tall = Neg(neg_pred_sabine_tall)\n",
        "print(f\"{double_neg_pred_sabine_tall}: {double_neg_pred_sabine_tall.check(model, f)} \\n\")\n",
        "\n",
        "# ... with a variable\n",
        "neg_pred_y_tall = Neg(pred_y_tall)\n",
        "print(f\"{neg_pred_y_tall}: {neg_pred_y_tall.check(model, VarAssignment({y: 0}))} (with f(y) = 0) \\n\")\n",
        "\n",
        "# ... that applies to multiple individuals in the domain\n",
        "neg_pred_gertrude_human = Neg(pred_gertrude_human)\n",
        "print(f\"{neg_pred_gertrude_human}: {neg_pred_gertrude_human.check(model, f)} \\n\")\n",
        "\n",
        "# Binary predicates ...\n",
        "# ... with a variable\n",
        "neg_pred_Jordan_like_y = Neg(pred_Jordan_like_y)\n",
        "print(f\"{neg_pred_Jordan_like_y}: {neg_pred_Jordan_like_y.check(model, VarAssignment({y: 2}))} (with f(y) = 2) \\n\")"
      ],
      "metadata": {
        "id": "ObrURo2KLZuq"
      },
      "execution_count": null,
      "outputs": []
    },
    {
      "cell_type": "markdown",
      "metadata": {
        "id": "9uX9Zej0OaQ2"
      },
      "source": [
        "# Instructions\n",
        "*  Same instructions for `Ex`, a sub-class for existential quantification.\n",
        "*  (You can use the ∃ symbol in `__str__`.)"
      ]
    },
    {
      "cell_type": "code",
      "metadata": {
        "id": "e5hjOINaOi6r"
      },
      "source": [
        "# Existencial application\n",
        "class Ex(Formula):\n",
        "  # phi: Formula (we assume args list contains var)\n",
        "  # var: V\n",
        "  def __init__(self, phi, var):\n",
        "    check_type(phi, Formula, \"phi\")\n",
        "    self._phi = phi\n",
        "    self._var = var\n",
        "\n",
        "\t# Checks whether the formula is true according to the model `m`\n",
        "\t# m: Model\n",
        "  def check(self, m, f):\n",
        "    check_type(m, Model, \"m\")\n",
        "    check_type(f, VarAssignment, \"f\")\n",
        "    for ind in m.domain: # iterate over the individuals in the domain\n",
        "      if ( self._phi.check( model, VarAssignment({self._var: ind}) ) ): # if the individual in the domain makes the value of phi true\n",
        "        return True\n",
        "    return False # return false if no individual in the domain, that makes phi true, found after the for loop\n",
        "\n",
        "\t# Returns a string representation of the object. Used to print the object in a readable way.\n",
        "  def __str__(self):\n",
        "    return f\"(∃{self._var}. {self._phi})\""
      ],
      "execution_count": null,
      "outputs": []
    },
    {
      "cell_type": "code",
      "source": [
        "print(f\"The model is:\\n {model} \\n\")\n",
        "\n",
        "exist_x_wooden = Ex( PredApp(wooden, [x]), x)\n",
        "print(f\"{exist_x_wooden}: {exist_x_wooden.check(model, f)} \\n\")\n",
        "\n",
        "exist_y_tall = Ex(pred_y_tall, y)\n",
        "print(f\"{exist_y_tall}: {exist_y_tall.check(model, f)} \\n\")\n",
        "\n",
        "exist_Jordan_like_y = Ex(pred_Jordan_like_y, y)\n",
        "print(f\"{exist_Jordan_like_y}: {exist_Jordan_like_y.check(model, f)} \\n\")"
      ],
      "metadata": {
        "id": "G_0bnwxW42Qg"
      },
      "execution_count": null,
      "outputs": []
    },
    {
      "cell_type": "markdown",
      "metadata": {
        "id": "U_XYwGM2OlD4"
      },
      "source": [
        "# Instructions\n",
        "*  Same instructions for `Conj`, a sub-class for conjunction.\n",
        "*  (You can use the ∧ symbol in `__str__`)"
      ]
    },
    {
      "cell_type": "code",
      "metadata": {
        "id": "R9w6TS_JOpgj"
      },
      "source": [
        "# Conjunction application\n",
        "class Conj(Formula):\n",
        "  # phi, psi: Formula\n",
        "  def __init__(self, phi, psi):\n",
        "    check_type(phi, Formula, \"phi\")\n",
        "    check_type(psi, Formula, \"psi\")\n",
        "    self._phi = phi\n",
        "    self._psi = psi\n",
        "\n",
        "\t# Checks whether the formula is true according to the model `m` and the variable assignment `f`.\n",
        "\t# m: Model\n",
        "\t# f: VarAssignment\n",
        "  def check(self, m, f):\n",
        "    check_type(m, Model, \"m\")\n",
        "    check_type(f, VarAssignment, \"f\")\n",
        "    return ( (self._phi.check(m, f)) and (self._psi.check(m, f)) ) # return value of phi and value of psi\n",
        "\n",
        "\t# Returns a string representation of the object. Used to print the object in a readable way.\n",
        "  def __str__(self):\n",
        "    return f\"({self._phi} ∧ {self._psi})\""
      ],
      "execution_count": null,
      "outputs": []
    },
    {
      "cell_type": "code",
      "source": [
        "print(f\"The model is:\\n {model} \\n\")\n",
        "\n",
        "conj_human_tall = Conj(pred_gertrude_human, PredApp(tall, [Gertrude]))\n",
        "print(f\"{conj_human_tall}: {conj_human_tall.check(model, f)} \\n\")\n",
        "\n",
        "conj_formula_negFormula = Conj(pred_Jordan_like_Sabine, Neg(pred_Jordan_like_Sabine))\n",
        "print(f\"{conj_formula_negFormula}: {conj_formula_negFormula.check(model, f)} \\n\")\n",
        "\n",
        "print(f\"{Neg(conj_human_tall)}: {Neg(conj_human_tall).check(model, f)} \\n\")\n",
        "\n",
        "conj_of_conj = Conj(conj_human_tall, pred_sabine_tall)\n",
        "print(f\"{conj_of_conj}: {conj_of_conj.check(model, f)} \\n\")\n",
        "\n",
        "exist_y_human_and_Jordan_like_y = Ex( Conj( PredApp(human, [y]), pred_Jordan_like_y ), V(\"y\") )\n",
        "print(f\"{exist_y_human_and_Jordan_like_y}: {exist_y_human_and_Jordan_like_y.check(model, f)} \\n\")\n",
        "\n",
        "conj_exist_pred_with_v = Conj(exist_Jordan_like_y, PredApp(human, [y]))\n",
        "print(f\"{conj_exist_pred_with_v}: {conj_exist_pred_with_v.check(model, VarAssignment({y: 3}))} (with f(y) = 3) \\n\")"
      ],
      "metadata": {
        "id": "rZwjrVZTbPJk"
      },
      "execution_count": null,
      "outputs": []
    },
    {
      "cell_type": "markdown",
      "metadata": {
        "id": "I9nypw_aR_pu"
      },
      "source": [
        "# Instructions\n",
        "*   Test `check_closed` using several complex and diversed closed formulas."
      ]
    },
    {
      "cell_type": "markdown",
      "source": [],
      "metadata": {
        "id": "_JbsjEX-gEPq"
      }
    },
    {
      "cell_type": "code",
      "metadata": {
        "id": "zSO3_RdcSABv"
      },
      "source": [
        "print(f\"the model is {model} \\n\")\n",
        "\n",
        "# closed formulas\n",
        "print(f\"check closed with closed formula: {exist_y_human_and_Jordan_like_y}: {exist_y_human_and_Jordan_like_y.check_closed(model)} (same as before)\")\n",
        "print(f\"check closed with closed formula: {Neg(conj_human_tall)}: {Neg(conj_human_tall).check_closed(model)} (same as before)\")\n",
        "print(f\"check closed with closed formula: {exist_Jordan_like_y}: {exist_Jordan_like_y.check_closed(model)} (same as before) \\n \")\n",
        "\n",
        "# not closed formulas\n",
        "print(f\"check closed when formula is not a closed formula (ex. {pred_y_tall}): (KeyError since no mapping was done for the variable y (empty variable assignment))\")\n",
        "pred_y_tall.check_closed(model)"
      ],
      "execution_count": null,
      "outputs": []
    }
  ]
}